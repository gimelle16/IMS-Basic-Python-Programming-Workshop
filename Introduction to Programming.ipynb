{
 "cells": [
  {
   "cell_type": "markdown",
   "id": "ffd88d0f",
   "metadata": {
    "slideshow": {
     "slide_type": "slide"
    }
   },
   "source": [
    "# Introduction to Python Programming\n",
    "\n",
    "## Basic Python Syntax\n",
    "\n",
    "1. Python uses **print()** statement to write a statement on screen.\n",
    "2. The # (hash) symbol to start writing a comment. All statements following # are ignored in the code.\n",
    "3. The continuation character is backslash (\\) symbol if a statement is too long on a line.\n",
    "4. **input()** is the syntax used to store data from keyboard to variables \n"
   ]
  },
  {
   "cell_type": "code",
   "execution_count": 1,
   "id": "b0dee54d",
   "metadata": {
    "slideshow": {
     "slide_type": "subslide"
    }
   },
   "outputs": [
    {
     "name": "stdout",
     "output_type": "stream",
     "text": [
      "Hello, world!\n",
      "\n",
      "Lorem ipsum dolor sit amet, consectetur adipiscing elit. Morbi gravida efficitur rutrum. Mauris lobortis rutrum tincidunt. Nunc non mi ultricies, imperdiet augue in, egestas libero. Nullam fermentum lectus at rhoncus hendrerit. Vestibulum at egestas urna. Praesent dapibus quam in molestie condimentum. Nunc finibus vestibulum ipsum, non auctor dui consequat non. Curabitur vulputate turpis a arcu gravida viverra. Suspendisse potenti. Ut gravida mattis elementum. Quisque elementum est lectus. Ut at nulla vitae nisi gravida vulputate. Donec eget blandit est.\n",
      "\n",
      "Enter your given name: \n"
     ]
    }
   ],
   "source": [
    "# Write a code that will print the sentence \"Hello, world\".\n",
    "\n",
    "print(\"Hello, world!\\n\")\n",
    "\n",
    "# \\n when added to a statement specifically text, creates a new line.\n",
    "#Use continuation character to properly format the text below in the code editor.\n",
    "print(\"Lorem ipsum dolor sit amet, consectetur adipiscing elit. Morbi gravida efficitur rutrum. Mauris lobortis rutrum tincidunt. Nunc non mi ultricies, imperdiet augue in, egestas libero. Nullam fermentum lectus at rhoncus hendrerit. Vestibulum at egestas urna. Praesent dapibus quam in molestie condimentum. Nunc finibus vestibulum ipsum, non auctor dui consequat non. Curabitur vulputate turpis a arcu gravida viverra. Suspendisse potenti. Ut gravida mattis elementum. Quisque elementum est lectus. Ut at nulla vitae nisi gravida vulputate. Donec eget blandit est.\\n\")\n",
    "\n",
    "# Write a code that will ask the user to type in their name.\n",
    "given_name = input(\"Enter your given name: \")"
   ]
  },
  {
   "cell_type": "markdown",
   "id": "21d0f3bf",
   "metadata": {
    "slideshow": {
     "slide_type": "slide"
    }
   },
   "source": [
    "# Variable and Data Types\n",
    "\n",
    "* An <span style = 'color:blue'> **identifier** </span> is a name given to entities such as variables, functions, etc. It helps to differentiate one entity from another.\n",
    "* Identifiers can be a combination of letters in *lowercase* (a to z) or *uppercase* (A to Z),  *digits* (0 to 9) or an *underscore* (_). \n",
    "    * **Examples:** myClass, var_1, print_this_to_screen.\n",
    "* <span style = 'color:red'> *REMARK:* </span> An identifier cannot start with a digit. Python is a case-sensitive language. Thus, Date and date are not the same.\n",
    "* A <span style = 'color: blue'> **variable** </span>  is a named  location used to store data in the memory. It is helpful to think of variable as a container that holds data which can be changed later throughout programming. \n",
    "    * **Example:** grade = 1.25 \n",
    "    \n",
    "### Numeric variables\n",
    "\n",
    "```python\n",
    "# Numeric variables store numeric values.\n",
    "math_grade = 97.8 # float\n",
    "scientific_notation = 5.6e2\n",
    "grade_level = 2 # integer\n",
    "imaginary = 1 + 2j #imaginary\n",
    "\n",
    "```\n",
    "\n",
    "### String variables\n",
    "\n",
    "```python\n",
    "# String variables store text data.\n",
    "\n",
    "given_name = \"Zaira\"\n",
    "surname = \"Amorosa\"\n",
    "```\n",
    "\n",
    "### Boolean variables\n",
    "\n",
    "```python\n",
    "#Boolean variables are either TRUE or FALSE\n",
    "\n",
    "is_registered = True\n",
    "is_present = False\n",
    "```\n",
    "\n",
    "### Dictionary variables\n",
    "\n",
    "```python\n",
    "# Dictionary variables store values for several variables.\n",
    "\n",
    "update = {\"grade_level\": 11, \"given_name\": 'Zedric', \"math_grade\": '95,2'}\n",
    "\n",
    "# Use variable.get to use the values of the variable indicated.\n",
    "\n",
    "update_grade = update.get(\"grade_level\")\n",
    "```\n",
    "\n"
   ]
  },
  {
   "cell_type": "code",
   "execution_count": 2,
   "id": "65ae35fb",
   "metadata": {
    "slideshow": {
     "slide_type": "subslide"
    }
   },
   "outputs": [],
   "source": [
    "# Write a code that will define the variables grade_level, given_name and math_grade. Use the values given above.\n",
    "\n",
    "# Print the statement \"The Grade 2 student, Zaira has a math grade of 97.8.\"\n",
    "\n",
    "# What if you change the grade_level, given_name and math_grade to '11', 'Zedric' and '95.2', respectively?\n"
   ]
  },
  {
   "cell_type": "markdown",
   "id": "6fea6f47",
   "metadata": {
    "slideshow": {
     "slide_type": "slide"
    }
   },
   "source": [
    "## Operators\n",
    "\n",
    "There are several operators used in Python.\n",
    "\n",
    "### Arithmetic operators\n",
    "\n",
    "| Operator | Meaning |\n",
    "| :-: | :- |\n",
    "| $+$ | add two operands or unary plus |\n",
    "| $-$ | subtract right operand from left operand or unary minus |\n",
    "| $*$ | multiply two operands |\n",
    "| $/$ | divide left operand by the right operand (always results to float) |\n",
    "| $%$ | modulus (remainder when dividing) |\n",
    "| $//$ | floor division (results to whole number adjusted to the left of the number line) |\n",
    "| $**$ | exponentiation - left operand raised to the power of right operand |\n",
    "\n",
    "### Relational operators\n",
    "| Operator | Meaning |\n",
    "| :-: | :- |\n",
    "| $>$ | greater than - True if left operand is greater than the right |\n",
    "| $<$ | less than - True if left operand is less than the right |\n",
    "| $==$ | equal to - True if both operands are equal |\n",
    "| $!=$ | not equal to - true if operands are not equal |\n",
    "| $>=$ | greater than or equal to - True if left operand is greater than or equal to the right |\n",
    "| $<=$ | less than or equal to - True if left operand is less than or equal to the righ true |\n",
    "\n",
    "### Logical operators\n",
    "| Operator | Meaning |\n",
    "| :-: | :- |\n",
    "| not | negates the truth value of the operand |\n",
    "| or | true if at least one of the operands is True |\n",
    "| and | true if both opererands is True |"
   ]
  },
  {
   "cell_type": "code",
   "execution_count": 3,
   "id": "582617b3",
   "metadata": {
    "slideshow": {
     "slide_type": "subslide"
    }
   },
   "outputs": [],
   "source": [
    "# Define x = 10, y = 13, A = True and C = False\n",
    "\n",
    "# Write a code that will solve for the values of 'xy', 'x/y', 'ymodx', 'A and C' and ' A or not C' "
   ]
  },
  {
   "cell_type": "markdown",
   "id": "db7575db",
   "metadata": {},
   "source": [
    "## Control Structures\n",
    "\n",
    "### Decision Structures\n",
    "\n",
    "The <span style = 'color: blue'>*if, elif, else* </span> statements are used in Python for decision making. All forms of **IF construct** use a condition to determine which path to take in the structure. The logical IF statement is used to execute an instruction conditionally in the form of the structure below.\n",
    "\n",
    "#### If structure \n",
    "```python\n",
    "if (logical_expression):\n",
    "    (executable_statements)\n",
    "\n",
    "```\n",
    "\n",
    "#### If-else structure\n",
    "\n",
    "```python\n",
    "if (logical_expression):\n",
    "    (executable_statements_if)\n",
    "else:\n",
    "    (executable_statements_else)\n",
    "\n",
    "```\n",
    "\n",
    "#### If-elif-else structure\n",
    "\n",
    "```python\n",
    "if (logical_expression):\n",
    "    (executable_statements_if)\n",
    "elif (logical_expression):\n",
    "    (executable_statements_elif)\n",
    "else: \n",
    "    (executable_statements_else)\n",
    "\n",
    "```\n"
   ]
  },
  {
   "cell_type": "code",
   "execution_count": 4,
   "id": "3c65c249",
   "metadata": {},
   "outputs": [],
   "source": [
    "# Write a program that reads the coefficients of a quadratic equation...\n",
    "# ... given by the user and describes the nature of its roots. \n",
    "\n"
   ]
  },
  {
   "cell_type": "markdown",
   "id": "69c53107",
   "metadata": {},
   "source": [
    "### Repitition Structures\n",
    "\n",
    "Any iterative structure is usually called a loop. Loops are used in programming to repeat a specific block of code. We consider two main types: <span style = 'color:blue'> WHILE LOOP </span> and <span style = 'color:blue'> COUNT CONTROLLED LOOP </span> .\n",
    "\n",
    "#### While Loop\n",
    "\n",
    "The while loop is used to iterate over a block of code if the test expression (condition) is True. The code structures are given below:\n",
    "\n",
    "```python\n",
    "while (logical_expression):\n",
    "    (executable_statements_while)\n",
    "```\n",
    "\n",
    "or \n",
    "\n",
    "```python\n",
    "while (logical_expression):\n",
    "    (executable_statements_while)\n",
    "else:\n",
    "    (executable_statements_else)\n",
    "```\n",
    "\n",
    "#### Count controlled structure\n",
    "\n",
    "The <span style ='color:blue'> *range()* </span> function. We can generate a sequence of numbers using <span style ='color:blue'> *range()* </span> function. We can also define the start, stop and step size as <span style ='color:blue'> *range(start,stop,step_size)* </span>. The default initial index is 0 while the default step size is 1. \n",
    "* **Example:** range(5) will generate numbers from 0 to 4 (5 numbers).\n",
    "\n",
    "The count control loop in Python is used to iterate over a sequence or other iterated objects. The syntax is given:\n",
    "\n",
    "```python\n",
    "for variable in range(start, position stop, increment):\n",
    "\t(executable_statements_for)\n",
    "\n",
    "```\n",
    "#### Remarks\n",
    "\n",
    "* <span style ='color:blue'> *break* </span> function is used to exit a loop prematurely when a certain condition is satisfied.\n",
    "\n",
    "* <span style ='color:blue'> *continue* </span> function is used to skip the rest of the code inside the loop for current iteration and move to the next iteration.\n"
   ]
  },
  {
   "cell_type": "code",
   "execution_count": 5,
   "id": "74be4c13",
   "metadata": {
    "slideshow": {
     "slide_type": "subslide"
    }
   },
   "outputs": [],
   "source": [
    "# Write a program using count controlled structure solving the factorial of a given integer n."
   ]
  },
  {
   "cell_type": "code",
   "execution_count": 8,
   "id": "ccd5cbbf",
   "metadata": {
    "slideshow": {
     "slide_type": "subslide"
    }
   },
   "outputs": [
    {
     "name": "stdout",
     "output_type": "stream",
     "text": [
      "0\n",
      "1\n",
      "2\n",
      "3\n",
      "4\n"
     ]
    }
   ],
   "source": [
    "# Example of using break function\n",
    "\n",
    "\n",
    "for i in range(10):\n",
    "    if i == 5:\n",
    "        break\n",
    "    print(i)\n"
   ]
  },
  {
   "cell_type": "code",
   "execution_count": 9,
   "id": "80021869",
   "metadata": {
    "slideshow": {
     "slide_type": "subslide"
    }
   },
   "outputs": [
    {
     "name": "stdout",
     "output_type": "stream",
     "text": [
      "1\n",
      "2\n",
      "3\n",
      "4\n",
      "6\n",
      "7\n",
      "8\n",
      "9\n"
     ]
    }
   ],
   "source": [
    "# Example of using continue function\n",
    "\n",
    "for i in range(10):\n",
    "    if i % 5 == 0:\n",
    "        continue\n",
    "    print(i)"
   ]
  },
  {
   "cell_type": "markdown",
   "id": "24469ec4",
   "metadata": {},
   "source": [
    "## Functions in Python\n",
    "\n",
    "Functions are a fundamental concept in programming. These allows the user to organize the code into reusable blocks. A function is a block of code that performs a specific task. It takes input, processes the input and returns an output. Functions help your code to be more readable and easier to maintain.\n",
    "\n",
    "### Defining a function in Python\n",
    "Python has a lot of intrinsic functions in its libraries. However, there are instances that we need to create a new function that will cater the specific tasks that we want our program to perform. In Python, we can use the <span style = 'color:blue'> define </span> syntax to create a new function.\n",
    "\n",
    "```python\n",
    "def function_name(input):\n",
    "    executable_statements\n",
    "    return value\n",
    "\n",
    "```\n",
    "\n",
    "#### Remark \n",
    "\n",
    "The <span style = 'color:blue'> *return* </span> syntax will give the result of evaluating the function at the given input.\n",
    "\n",
    "### Built-in Functions\n",
    "\n",
    "Python has a wide array of built-in or intrinsic functions that are always used in creating a code."
   ]
  },
  {
   "cell_type": "code",
   "execution_count": 60,
   "id": "228f1bbd",
   "metadata": {},
   "outputs": [
    {
     "data": {
      "text/plain": [
       "'No real roots'"
      ]
     },
     "execution_count": 60,
     "metadata": {},
     "output_type": "execute_result"
    }
   ],
   "source": [
    "def discriminant(a,b,c):\n",
    "    discriminant = b**2 - 4*a*c\n",
    "    return discriminant\n",
    "\n",
    "def nature_roots(x):\n",
    "    if x > 0:\n",
    "        nature = 'Two distinct real roots'\n",
    "    elif x< 0:\n",
    "        nature = 'No real roots'\n",
    "    else:\n",
    "        nature = 'One real root'\n",
    "    return nature\n",
    "\n",
    "a = 1\n",
    "b = 0\n",
    "c = 1\n",
    "\n",
    "x = discriminant(a,b,c)\n",
    "nature_roots(x)"
   ]
  },
  {
   "cell_type": "markdown",
   "id": "be336a34",
   "metadata": {},
   "source": [
    "#### Numpy library\n",
    "\n",
    "One library of function commonly used in Python programming contains numerical computing tools for n-dimensional arrays called *Numerical Python* or <span style = 'color:blue'> **NumPy** </span>. This is often shortened as *np* when imported to the program. Below is some of the prewritten functions in its library.\n",
    "\n",
    "\n",
    "| Functions | Output |\n",
    "|:-|:-|\n",
    "|np.pi | numerical value of pie|\n",
    "|np.sin() | sine and cosine value of a number |\n",
    "|np.cos() | |\n",
    "|np.array()| creates an array |\n",
    "|np.zeros()| creates an array filled with zeros |\n",
    "|np.ones()| creates an array filled with ones |\n",
    "|np.linspace()| creates an array filled with a range of values|\n",
    "|np.mean() | computes the arithmetic mean of the array elements |\n",
    "|np.median()| computes the median of the array elements |\n",
    "|np.std()| computes the standard deviation of the array elements|\n",
    "|np.var()| computes the variance of the array elements|\n",
    "|np.min()| Finds the minimum value in an array|\n",
    "|np.max()| Finds the maximum value in an array|\n",
    "|np.append(array, x) | appends $x$ as last element of *array* |\n",
    "|np.concatenate(array_1, array_2) | combines *array_1* and *array_2* |\n",
    "\n"
   ]
  },
  {
   "cell_type": "code",
   "execution_count": 24,
   "id": "444c97d8",
   "metadata": {
    "slideshow": {
     "slide_type": "subslide"
    }
   },
   "outputs": [
    {
     "name": "stdout",
     "output_type": "stream",
     "text": [
      "[0.55803645 0.24136562 0.65354007 0.92117632 0.89226517 0.34981182\n",
      " 0.10047478 0.404661   0.31593174 0.53190135]\n",
      "\n",
      "The mean of array A is 0.49691643307885247 and the standard deviation is 0.25517957168956984. The range is 0.8207015408362016.\n"
     ]
    },
    {
     "data": {
      "text/plain": [
       "' Using Numpy, create a program that will define a function containing the following tasks:\\n1. Print the array\\n2. Compute the mean, standard deviation and sum of the array provided.'"
      ]
     },
     "execution_count": 24,
     "metadata": {},
     "output_type": "execute_result"
    }
   ],
   "source": [
    "import numpy as np\n",
    "import random as rand #module for random number generator\n",
    "\n",
    "\n",
    "n = 10\n",
    "A = [] # initiates an empty array\n",
    "for i in range(n):\n",
    "    A = np.append(A, rand.random()) #append a random float between 0 and 1 to A\n",
    "    \n",
    "print(A) #prints array A\n",
    "mean = np.mean(A) #computes for the mean of A\n",
    "sdev = np.std(A)\n",
    "rng = np.max(A) - np.min(A)\n",
    "print(f'\\nThe mean of array A is {np.mean(A)} and \\\n",
    "the standard deviation is {sdev}. \\\n",
    "The range is {rng}.')\n",
    "\n",
    "\n",
    "''' Using Numpy, create a program that will define a function containing the following tasks:\n",
    "1. Print the array; and\n",
    "2. Compute the mean, standard deviation and sum of the array provided.'''\n"
   ]
  },
  {
   "cell_type": "markdown",
   "id": "17c3bea9",
   "metadata": {
    "slideshow": {
     "slide_type": "slide"
    }
   },
   "source": [
    "\n",
    "#### Matplotlib Library\n",
    "\n",
    "<span style = 'color:blue'> Matplotlib </span> is known for its versatility in visualization of data. When imported to the program, this is usually shortened as *plt*. Below are some basic functions in Matplotlib:\n",
    "\n",
    "| Functions | Output |\n",
    "|:-|:-|\n",
    "|plot() | creates a line plot |\n",
    "|scatter() | creates a scatter plot|\n",
    "|bar() | creates a bar chart |\n",
    "|hist() | creates a histogram of data |\n",
    "|pie() | creates a pie chart|\n",
    "|title() | adds a title to the plot |\n",
    "|xlabel(), ylabel() | adds label to the axes |\n",
    "|legend() | adds legend to the plot |\n",
    "|xlim(), ylim() | adds limits for the axes |\n",
    "|grid() | adds a grid |\n",
    "|show() |displays all plots generated|\n",
    "|subplot() | creates a subplot in a single figure |"
   ]
  },
  {
   "cell_type": "code",
   "execution_count": 36,
   "id": "e4194efd",
   "metadata": {
    "slideshow": {
     "slide_type": "slide"
    }
   },
   "outputs": [
    {
     "data": {
      "image/png": "[encoded data removed]",
      "text/plain": [
       "<Figure size 432x288 with 1 Axes>"
      ]
     },
     "metadata": {
      "needs_background": "light"
     },
     "output_type": "display_data"
    }
   ],
   "source": [
    "import numpy as np\n",
    "import matplotlib.pyplot as plt\n",
    "\n",
    "x = np.linspace(-5 , 5, 1000)\n",
    "y = 25 - x**2\n",
    "\n",
    "plt.plot(x, y)\n",
    "plt.show()"
   ]
  },
  {
   "cell_type": "code",
   "execution_count": 37,
   "id": "a6a7677b",
   "metadata": {},
   "outputs": [
    {
     "data": {
      "text/plain": [
       "'Using matplotlib, define a function that will do these tasks given two same-size arrays\\n1. Create a linear plot of array 1 versus array 2.\\n2. Create title and labels for the axes\\n3. Show the plot '"
      ]
     },
     "execution_count": 37,
     "metadata": {},
     "output_type": "execute_result"
    }
   ],
   "source": [
    "'''Using matplotlib, define a function that will do these tasks given two same-size arrays\n",
    "1. Create a linear plot of array 1 versus array 2.\n",
    "2. Create title and labels for the axes\n",
    "3. Show the plot '''\n"
   ]
  },
  {
   "cell_type": "markdown",
   "id": "d0de032d",
   "metadata": {},
   "source": [
    "#### Pandas Library\n",
    "\n",
    "<span style = 'color:blue'> **Pandas** </span> is commonly used for data manipulation and analysis in Python. \n",
    "\n",
    "| Functions | Output |\n",
    "|:-|:-|\n",
    "|read_csv(), read_excel() | reads data from a CSV or Excel file into a DataFrame|\n",
    "| head()| returns the first n rows of a DataFrame (default is 5) |\n",
    "| tail()| returns the last n rows of a DataFrame (default is 5) |\n",
    "|info() | provides a summary of the DataFrame, including the data types and non-null values|\n",
    "|describe() | generates descriptive statistics of the DataFrame. |\n",
    "|dropna()| removes missing values |\n",
    "|fillna() | fills missing values with a specified value|\n",
    "|isnull() | detects missing values |\n",
    "| sum() | returns the sum of the values for the requested axis |\n",
    "| mean() | returns the mean of the values for the requested axis |\n",
    "| count() | returns the number of non-null observations |"
   ]
  },
  {
   "cell_type": "code",
   "execution_count": 44,
   "id": "4bbf293f",
   "metadata": {
    "scrolled": true
   },
   "outputs": [
    {
     "name": "stdout",
     "output_type": "stream",
     "text": [
      "DataFrame Head:\n",
      "    x_A  x_B\n",
      "0  0.0    5\n",
      "1  1.0    4\n",
      "2  2.0    3\n",
      "3  1.5    2\n",
      "4  0.5    1\n",
      "DataFrame Description:\n",
      "             x_A       x_B\n",
      "count  5.000000  5.000000\n",
      "mean   1.000000  3.000000\n",
      "std    0.790569  1.581139\n",
      "min    0.000000  1.000000\n",
      "25%    0.500000  2.000000\n",
      "50%    1.000000  3.000000\n",
      "75%    1.500000  4.000000\n",
      "max    2.000000  5.000000\n",
      "Missing Values:\n",
      " x_A    0\n",
      "x_B    0\n",
      "dtype: int64\n"
     ]
    }
   ],
   "source": [
    "''' Using pandas'''\n",
    "\n",
    "import pandas as pd\n",
    "\n",
    "def analyze_dataframe(df):\n",
    "    print(\"DataFrame Head:\\n\", df.head())\n",
    "    print(\"DataFrame Description:\\n\", df.describe())\n",
    "    print(\"Missing Values:\\n\", df.isnull().sum())\n",
    "    df.to_csv(\"My file\", index = False, encoding = 'utf-8')\n",
    "\n",
    "# Using the function\n",
    "data = {'x_A': [0, 1, 2, 1.5, 0.5], 'x_B': [5, 4, 3, 2, 1]}\n",
    "df = pd.DataFrame(data)\n",
    "analyze_dataframe(df)\n"
   ]
  },
  {
   "cell_type": "code",
   "execution_count": 55,
   "id": "89485388",
   "metadata": {
    "slideshow": {
     "slide_type": "subslide"
    }
   },
   "outputs": [
    {
     "name": "stdout",
     "output_type": "stream",
     "text": [
      "      School Sex at birth  Number of siblings  Age  Estimated GWA\n",
      "0   LSPU-SCC       Female                   4   22       2.267619\n",
      "1   LSPU-SCC         Male                   5   20       2.826845\n",
      "2   LSPU-SCC         Male                   1   22       1.404829\n",
      "3        UEP         Male                   0   20       1.677231\n",
      "4   LSPU-SCC       Female                   4   20       2.192828\n",
      "5        UEP         Male                   5   22       1.557378\n",
      "6   LSPU-SCC         Male                   5   22       1.118426\n",
      "7        UEP       Female                   1   21       1.469121\n",
      "8   LSPU-SCC         Male                   1   21       2.794421\n",
      "9   LSPU-SCC       Female                   1   20       1.556959\n",
      "10       UEP       Female                   5   22       1.756895\n",
      "11       UEP       Female                   4   22       1.569952\n",
      "12       UEP       Female                   0   21       2.544719\n"
     ]
    },
    {
     "data": {
      "image/png": "[encoded data removed]",
      "text/plain": [
       "<Figure size 432x288 with 1 Axes>"
      ]
     },
     "metadata": {
      "needs_background": "light"
     },
     "output_type": "display_data"
    },
    {
     "data": {
      "text/plain": [
       "([<matplotlib.patches.Wedge at 0x1faaed2d040>,\n",
       "  <matplotlib.patches.Wedge at 0x1faaed2d6a0>],\n",
       " [Text(-1.0919797500487745, -0.13259044265487677, 'LSPU-SCC'),\n",
       "  Text(1.0919797376347566, 0.13259054489339878, 'UEP')])"
      ]
     },
     "execution_count": 55,
     "metadata": {},
     "output_type": "execute_result"
    },
    {
     "data": {
      "image/png": "[encoded data removed]",
      "text/plain": [
       "<Figure size 432x288 with 1 Axes>"
      ]
     },
     "metadata": {},
     "output_type": "display_data"
    }
   ],
   "source": [
    "import pandas as pd\n",
    "import matplotlib.pyplot as plt\n",
    "\n",
    "# read the CSV file named trial.csv\n",
    "df = pd.read_csv('trial.csv')\n",
    "\n",
    "#print the CSV file\n",
    "print(df)\n",
    "\n",
    "#Generate the descriptive statistics for the column 'Estimated GWA'\n",
    "df['Estimated GWA'].describe()\n",
    "\n",
    "# Creates a histogram for the number of siblings\n",
    "plt.hist(df['Number of siblings'])\n",
    "\n",
    "# Creates a pie chart for School\n",
    "labels =  df['School'].value_counts().index\n",
    "plt.pie(df['School'].value_counts(), labels=labels,startangle=90)\n",
    "\n",
    "plt.show()"
   ]
  },
  {
   "cell_type": "code",
   "execution_count": 42,
   "id": "9b96d709",
   "metadata": {
    "scrolled": true,
    "slideshow": {
     "slide_type": "slide"
    }
   },
   "outputs": [
    {
     "data": {
      "image/png": "[encoded data removed]",
      "text/plain": [
       "<Figure size 864x432 with 3 Axes>"
      ]
     },
     "metadata": {
      "needs_background": "light"
     },
     "output_type": "display_data"
    }
   ],
   "source": [
    "#Sample code creating personalized fonts\n",
    "\n",
    "import numpy as np\n",
    "import matplotlib.pyplot as plt\n",
    "from scipy.interpolate import CubicSpline\n",
    "\n",
    "# Function to plot a letter using cubic splines\n",
    "def plot_letter(x_points, y_points, label):\n",
    "    t = np.linspace(0, 1, len(x_points))  # Parametric variable\n",
    "    t_fine = np.linspace(0, 1, 100)  # Finer grid for smooth curve\n",
    "\n",
    "    # Create cubic splines for the letter\n",
    "    cs_x = CubicSpline(t, x_points)\n",
    "    cs_y = CubicSpline(t, y_points)\n",
    "\n",
    "    # Evaluate the splines\n",
    "    x_spline = cs_x(t_fine)\n",
    "    y_spline = cs_y(t_fine)\n",
    "\n",
    "    # Plot the control points and the spline\n",
    "    plt.plot(x_points, y_points, 'o', label=f'{label} Control Points', markersize=6)\n",
    "    plt.plot(x_spline, y_spline, label=f'{label} Spline', lw=2)\n",
    "\n",
    "# Define control points for letter A\n",
    "x_A = np.array([0, 1, 2, 1.5, 0.5])\n",
    "y_A = np.array([0, 3, 0, 1.5, 1.5])\n",
    "\n",
    "# Define control points for letter B\n",
    "x_B = np.array([0, 0, 0, 1, 1, 0])\n",
    "y_B = np.array([0, 3, 1.5, 1.5, 0, 0])\n",
    "\n",
    "# Define control points for letter C\n",
    "x_C = np.array([1, 0, 0, 1])\n",
    "y_C = np.array([3, 3, 0, 0])\n",
    "\n",
    "# Create the plot\n",
    "plt.figure(figsize=(12, 6))\n",
    "\n",
    "# Plot letter A\n",
    "plt.subplot(1, 3, 1)  # Create a subplot for each letter\n",
    "plot_letter(x_A, y_A, 'A')\n",
    "plt.title('Letter A')\n",
    "plt.axis('equal')\n",
    "\n",
    "# Plot letter B\n",
    "plt.subplot(1, 3, 2)\n",
    "plot_letter(x_B, y_B, 'B')\n",
    "plt.title('Letter B')\n",
    "plt.axis('equal')\n",
    "\n",
    "# Plot letter C\n",
    "plt.subplot(1, 3, 3)\n",
    "plot_letter(x_C, y_C, 'C')\n",
    "plt.title('Letter C')\n",
    "plt.axis('equal')\n",
    "\n",
    "# Customize the plot\n",
    "plt.suptitle('Font Drawing Using Cubic Splines')\n",
    "plt.tight_layout()\n",
    "plt.show()"
   ]
  },
  {
   "cell_type": "code",
   "execution_count": 20,
   "id": "1a2c8111",
   "metadata": {},
   "outputs": [
    {
     "ename": "SyntaxError",
     "evalue": "invalid syntax (<ipython-input-20-8a46367d0181>, line 5)",
     "output_type": "error",
     "traceback": [
      "\u001b[1;36m  File \u001b[1;32m\"<ipython-input-20-8a46367d0181>\"\u001b[1;36m, line \u001b[1;32m5\u001b[0m\n\u001b[1;33m    def load_and_plot_data(My file):\u001b[0m\n\u001b[1;37m                              ^\u001b[0m\n\u001b[1;31mSyntaxError\u001b[0m\u001b[1;31m:\u001b[0m invalid syntax\n"
     ]
    }
   ],
   "source": []
  },
  {
   "cell_type": "code",
   "execution_count": null,
   "id": "8c5a92b3",
   "metadata": {},
   "outputs": [],
   "source": []
  }
 ],
 "metadata": {
  "celltoolbar": "Slideshow",
  "kernelspec": {
   "display_name": "Python 3",
   "language": "python",
   "name": "python3"
  },
  "language_info": {
   "codemirror_mode": {
    "name": "ipython",
    "version": 3
   },
   "file_extension": ".py",
   "mimetype": "text/x-python",
   "name": "python",
   "nbconvert_exporter": "python",
   "pygments_lexer": "ipython3",
   "version": "3.8.8"
  }
 },
 "nbformat": 4,
 "nbformat_minor": 5
}
